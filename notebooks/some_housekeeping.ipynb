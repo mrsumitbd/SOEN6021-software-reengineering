{
 "cells": [
  {
   "cell_type": "code",
   "execution_count": 1,
   "id": "5df5f998-a12e-48de-ac48-4cc7bf6dc643",
   "metadata": {},
   "outputs": [],
   "source": [
    "import sys, os, time, requests, re\n",
    "from bs4 import BeautifulSoup\n",
    "import numpy as np\n",
    "module_path = os.path.abspath(os.path.join('..', 'src'))\n",
    "if module_path not in sys.path:\n",
    "    sys.path.append(module_path)"
   ]
  },
  {
   "cell_type": "code",
   "execution_count": 2,
   "id": "2ebaed06-bc8b-4ce6-af04-bad02dd78b6b",
   "metadata": {},
   "outputs": [],
   "source": [
    "from process_travis import *"
   ]
  },
  {
   "cell_type": "code",
   "execution_count": 3,
   "id": "58b56ad5-37f8-4a19-9170-4fe9b97dbe3b",
   "metadata": {},
   "outputs": [],
   "source": [
    "from utility import *"
   ]
  },
  {
   "cell_type": "code",
   "execution_count": 4,
   "id": "d48ffc09-4f71-4755-812f-dfb9720655cc",
   "metadata": {},
   "outputs": [],
   "source": [
    "# create travis obj\n",
    "process_Travis = ProcessTravisCIBuilds(\"WMlSAymr_DTc5XHe5mCj4w\")"
   ]
  },
  {
   "cell_type": "code",
   "execution_count": 16,
   "id": "92b8a28d-db06-41b1-9948-796c15f83abe",
   "metadata": {},
   "outputs": [],
   "source": [
    "# seglearn latest build list\n",
    "build_list = process_Travis.get_build_details('notthatanonymous/Feature-Selection', 50)"
   ]
  },
  {
   "cell_type": "code",
   "execution_count": 17,
   "id": "90b65569-d70f-4611-b6c2-08d83c0244f4",
   "metadata": {},
   "outputs": [],
   "source": [
    "def process_logs(build_list):\n",
    "        '''\n",
    "        :param build_list:\n",
    "        :return:\n",
    "        '''\n",
    "        run = 0\n",
    "        data_list = []\n",
    "        for build_id, build_desc in build_list.items():\n",
    "\n",
    "            run += 1\n",
    "            status = build_desc['status']\n",
    "            while status not in ['passed', 'errored', 'failed']:\n",
    "                time.sleep(30)\n",
    "                status = process_Travis.get_build_info(build_id)\n",
    "\n",
    "            print(f\"{build_id} completed with status {status}.\")\n",
    "\n",
    "            if status == 'passed':\n",
    "                for job_id in build_list[build_id]['job_list']:\n",
    "                    job_details = process_Travis.get_job_details(job_id)\n",
    "                    try:\n",
    "                        score = re.findall(r\"^best score:(\\d+\\.\\d+)\\s\", job_details['log'], re.MULTILINE)[0]\n",
    "                    except:\n",
    "                            score = np.nan\n",
    "                    data_list.append(list(np.append(job_details['job_config'].split('_'),\n",
    "                                                    [int(run), round(float(score), 6),\n",
    "                                                     job_details['processing_time']])))\n",
    "            else:\n",
    "                run -= 1\n",
    "        #print(data_list)\n",
    "        return data_list"
   ]
  },
  {
   "cell_type": "code",
   "execution_count": 18,
   "id": "4a2b18ee-cff0-44e1-874c-537e90f47d65",
   "metadata": {},
   "outputs": [
    {
     "name": "stdout",
     "output_type": "stream",
     "text": [
      "266753810 completed with status passed.\n",
      "266753806 completed with status passed.\n",
      "266753804 completed with status passed.\n",
      "266753802 completed with status passed.\n",
      "266753801 completed with status passed.\n",
      "266753799 completed with status passed.\n",
      "266753796 completed with status passed.\n",
      "266753795 completed with status passed.\n",
      "266753792 completed with status passed.\n",
      "266753790 completed with status passed.\n",
      "266753789 completed with status passed.\n",
      "266753786 completed with status passed.\n",
      "266753783 completed with status passed.\n",
      "266753778 completed with status passed.\n",
      "266753777 completed with status passed.\n",
      "266753776 completed with status passed.\n",
      "266753771 completed with status passed.\n",
      "266753769 completed with status passed.\n",
      "266753766 completed with status passed.\n",
      "266753762 completed with status passed.\n",
      "266753760 completed with status passed.\n",
      "266753757 completed with status passed.\n",
      "266753754 completed with status passed.\n",
      "266753752 completed with status passed.\n",
      "266753750 completed with status passed.\n",
      "266753439 completed with status passed.\n",
      "266753436 completed with status passed.\n",
      "266753435 completed with status passed.\n",
      "266753432 completed with status passed.\n",
      "266753429 completed with status passed.\n",
      "266753426 completed with status passed.\n",
      "266753425 completed with status passed.\n",
      "266753423 completed with status passed.\n",
      "266753418 completed with status passed.\n",
      "266753416 completed with status passed.\n",
      "266753415 completed with status passed.\n",
      "266753407 completed with status passed.\n",
      "266753405 completed with status passed.\n",
      "266753403 completed with status passed.\n",
      "266753400 completed with status passed.\n",
      "266753396 completed with status passed.\n",
      "266753394 completed with status passed.\n",
      "266753392 completed with status passed.\n",
      "266753389 completed with status passed.\n",
      "266753388 completed with status passed.\n",
      "266753387 completed with status passed.\n",
      "266753384 completed with status passed.\n",
      "266753381 completed with status passed.\n",
      "266753380 completed with status passed.\n",
      "266753378 completed with status passed.\n"
     ]
    }
   ],
   "source": [
    "import pandas as pd\n",
    "\n",
    "df = pd.DataFrame(process_logs(build_list), columns=['OS', 'Python', 'Hardware', 'Run', 'Score', 'Processing_Time'])"
   ]
  },
  {
   "cell_type": "code",
   "execution_count": 19,
   "id": "a9fc66a7-f63e-4749-b55d-5633ee805ad7",
   "metadata": {},
   "outputs": [],
   "source": [
    "df[\"Project\"] = ['Feature-Selection '] * df.shape[0]"
   ]
  },
  {
   "cell_type": "code",
   "execution_count": 20,
   "id": "164930ac-b361-4b36-9c95-690b5244d158",
   "metadata": {},
   "outputs": [
    {
     "data": {
      "text/plain": [
       "(400, 7)"
      ]
     },
     "execution_count": 20,
     "metadata": {},
     "output_type": "execute_result"
    }
   ],
   "source": [
    "df.shape"
   ]
  },
  {
   "cell_type": "code",
   "execution_count": 21,
   "id": "62f5f57a-2898-4e98-805f-bfaf47fac612",
   "metadata": {},
   "outputs": [
    {
     "data": {
      "text/html": [
       "<div>\n",
       "<style scoped>\n",
       "    .dataframe tbody tr th:only-of-type {\n",
       "        vertical-align: middle;\n",
       "    }\n",
       "\n",
       "    .dataframe tbody tr th {\n",
       "        vertical-align: top;\n",
       "    }\n",
       "\n",
       "    .dataframe thead th {\n",
       "        text-align: right;\n",
       "    }\n",
       "</style>\n",
       "<table border=\"1\" class=\"dataframe\">\n",
       "  <thead>\n",
       "    <tr style=\"text-align: right;\">\n",
       "      <th></th>\n",
       "      <th>OS</th>\n",
       "      <th>Python</th>\n",
       "      <th>Hardware</th>\n",
       "      <th>Run</th>\n",
       "      <th>Score</th>\n",
       "      <th>Processing_Time</th>\n",
       "      <th>Project</th>\n",
       "    </tr>\n",
       "  </thead>\n",
       "  <tbody>\n",
       "    <tr>\n",
       "      <th>0</th>\n",
       "      <td>Linux-Xenial</td>\n",
       "      <td>3.8</td>\n",
       "      <td>amd64</td>\n",
       "      <td>1.0</td>\n",
       "      <td>0.807241</td>\n",
       "      <td>64.0</td>\n",
       "      <td>Feature-Selection</td>\n",
       "    </tr>\n",
       "    <tr>\n",
       "      <th>1</th>\n",
       "      <td>Linux-Xenial</td>\n",
       "      <td>3.6</td>\n",
       "      <td>amd64</td>\n",
       "      <td>1.0</td>\n",
       "      <td>0.802672</td>\n",
       "      <td>68.0</td>\n",
       "      <td>Feature-Selection</td>\n",
       "    </tr>\n",
       "    <tr>\n",
       "      <th>2</th>\n",
       "      <td>Linux-Xenial</td>\n",
       "      <td>3.7</td>\n",
       "      <td>amd64</td>\n",
       "      <td>1.0</td>\n",
       "      <td>0.802672</td>\n",
       "      <td>61.0</td>\n",
       "      <td>Feature-Selection</td>\n",
       "    </tr>\n",
       "    <tr>\n",
       "      <th>3</th>\n",
       "      <td>Linux-Bionic</td>\n",
       "      <td>3.7</td>\n",
       "      <td>amd64</td>\n",
       "      <td>1.0</td>\n",
       "      <td>0.802672</td>\n",
       "      <td>54.0</td>\n",
       "      <td>Feature-Selection</td>\n",
       "    </tr>\n",
       "    <tr>\n",
       "      <th>4</th>\n",
       "      <td>Linux-Focal</td>\n",
       "      <td>3.7</td>\n",
       "      <td>amd64</td>\n",
       "      <td>1.0</td>\n",
       "      <td>0.802672</td>\n",
       "      <td>54.0</td>\n",
       "      <td>Feature-Selection</td>\n",
       "    </tr>\n",
       "  </tbody>\n",
       "</table>\n",
       "</div>"
      ],
      "text/plain": [
       "             OS Python Hardware  Run     Score Processing_Time   \n",
       "0  Linux-Xenial    3.8    amd64  1.0  0.807241            64.0  \\\n",
       "1  Linux-Xenial    3.6    amd64  1.0  0.802672            68.0   \n",
       "2  Linux-Xenial    3.7    amd64  1.0  0.802672            61.0   \n",
       "3  Linux-Bionic    3.7    amd64  1.0  0.802672            54.0   \n",
       "4   Linux-Focal    3.7    amd64  1.0  0.802672            54.0   \n",
       "\n",
       "              Project  \n",
       "0  Feature-Selection   \n",
       "1  Feature-Selection   \n",
       "2  Feature-Selection   \n",
       "3  Feature-Selection   \n",
       "4  Feature-Selection   "
      ]
     },
     "execution_count": 21,
     "metadata": {},
     "output_type": "execute_result"
    }
   ],
   "source": [
    "df.head()"
   ]
  },
  {
   "cell_type": "code",
   "execution_count": 22,
   "id": "631b0eb8-28c1-4f02-94e3-e618a674c8d6",
   "metadata": {},
   "outputs": [],
   "source": [
    "#df['Score'] = df['Score'].astype(float)/100"
   ]
  },
  {
   "cell_type": "code",
   "execution_count": 23,
   "id": "50640273-aee5-48ae-9f36-6bfabefa670a",
   "metadata": {},
   "outputs": [
    {
     "data": {
      "text/html": [
       "<div>\n",
       "<style scoped>\n",
       "    .dataframe tbody tr th:only-of-type {\n",
       "        vertical-align: middle;\n",
       "    }\n",
       "\n",
       "    .dataframe tbody tr th {\n",
       "        vertical-align: top;\n",
       "    }\n",
       "\n",
       "    .dataframe thead th {\n",
       "        text-align: right;\n",
       "    }\n",
       "</style>\n",
       "<table border=\"1\" class=\"dataframe\">\n",
       "  <thead>\n",
       "    <tr style=\"text-align: right;\">\n",
       "      <th></th>\n",
       "      <th>OS</th>\n",
       "      <th>Python</th>\n",
       "      <th>Hardware</th>\n",
       "      <th>Run</th>\n",
       "      <th>Score</th>\n",
       "      <th>Processing_Time</th>\n",
       "      <th>Project</th>\n",
       "    </tr>\n",
       "  </thead>\n",
       "  <tbody>\n",
       "    <tr>\n",
       "      <th>0</th>\n",
       "      <td>Linux-Xenial</td>\n",
       "      <td>3.8</td>\n",
       "      <td>amd64</td>\n",
       "      <td>1.0</td>\n",
       "      <td>0.807241</td>\n",
       "      <td>64.0</td>\n",
       "      <td>Feature-Selection</td>\n",
       "    </tr>\n",
       "    <tr>\n",
       "      <th>1</th>\n",
       "      <td>Linux-Xenial</td>\n",
       "      <td>3.6</td>\n",
       "      <td>amd64</td>\n",
       "      <td>1.0</td>\n",
       "      <td>0.802672</td>\n",
       "      <td>68.0</td>\n",
       "      <td>Feature-Selection</td>\n",
       "    </tr>\n",
       "    <tr>\n",
       "      <th>2</th>\n",
       "      <td>Linux-Xenial</td>\n",
       "      <td>3.7</td>\n",
       "      <td>amd64</td>\n",
       "      <td>1.0</td>\n",
       "      <td>0.802672</td>\n",
       "      <td>61.0</td>\n",
       "      <td>Feature-Selection</td>\n",
       "    </tr>\n",
       "    <tr>\n",
       "      <th>3</th>\n",
       "      <td>Linux-Bionic</td>\n",
       "      <td>3.7</td>\n",
       "      <td>amd64</td>\n",
       "      <td>1.0</td>\n",
       "      <td>0.802672</td>\n",
       "      <td>54.0</td>\n",
       "      <td>Feature-Selection</td>\n",
       "    </tr>\n",
       "    <tr>\n",
       "      <th>4</th>\n",
       "      <td>Linux-Focal</td>\n",
       "      <td>3.7</td>\n",
       "      <td>amd64</td>\n",
       "      <td>1.0</td>\n",
       "      <td>0.802672</td>\n",
       "      <td>54.0</td>\n",
       "      <td>Feature-Selection</td>\n",
       "    </tr>\n",
       "  </tbody>\n",
       "</table>\n",
       "</div>"
      ],
      "text/plain": [
       "             OS Python Hardware  Run     Score Processing_Time   \n",
       "0  Linux-Xenial    3.8    amd64  1.0  0.807241            64.0  \\\n",
       "1  Linux-Xenial    3.6    amd64  1.0  0.802672            68.0   \n",
       "2  Linux-Xenial    3.7    amd64  1.0  0.802672            61.0   \n",
       "3  Linux-Bionic    3.7    amd64  1.0  0.802672            54.0   \n",
       "4   Linux-Focal    3.7    amd64  1.0  0.802672            54.0   \n",
       "\n",
       "              Project  \n",
       "0  Feature-Selection   \n",
       "1  Feature-Selection   \n",
       "2  Feature-Selection   \n",
       "3  Feature-Selection   \n",
       "4  Feature-Selection   "
      ]
     },
     "execution_count": 23,
     "metadata": {},
     "output_type": "execute_result"
    }
   ],
   "source": [
    "df.head()"
   ]
  },
  {
   "cell_type": "code",
   "execution_count": 24,
   "id": "37fd22e3-e037-4e06-b2e7-ea694c921064",
   "metadata": {},
   "outputs": [
    {
     "name": "stdout",
     "output_type": "stream",
     "text": [
      "<class 'pandas.core.frame.DataFrame'>\n",
      "RangeIndex: 400 entries, 0 to 399\n",
      "Data columns (total 7 columns):\n",
      " #   Column           Non-Null Count  Dtype \n",
      "---  ------           --------------  ----- \n",
      " 0   OS               400 non-null    object\n",
      " 1   Python           400 non-null    object\n",
      " 2   Hardware         400 non-null    object\n",
      " 3   Run              400 non-null    object\n",
      " 4   Score            400 non-null    object\n",
      " 5   Processing_Time  400 non-null    object\n",
      " 6   Project          400 non-null    object\n",
      "dtypes: object(7)\n",
      "memory usage: 22.0+ KB\n"
     ]
    }
   ],
   "source": [
    "df.info()"
   ]
  },
  {
   "cell_type": "code",
   "execution_count": 25,
   "id": "d8416e31-b05a-46d5-abc2-45c20fbe3788",
   "metadata": {},
   "outputs": [],
   "source": [
    "write_df(df = df, file_name='Feature-Selection.csv')"
   ]
  },
  {
   "cell_type": "code",
   "execution_count": 26,
   "id": "7a75a140-e90c-4ae1-8fd1-270f5df9712b",
   "metadata": {},
   "outputs": [],
   "source": [
    "# # remove IBM CPU rows from rrcf\n",
    "# rrcf_df = pd.read_csv('../output/rrcf.csv')\n",
    "# rrcf_df.head(10)"
   ]
  },
  {
   "cell_type": "code",
   "execution_count": 43,
   "id": "83f8c71a-b9df-4503-a011-e9905a81d0e3",
   "metadata": {},
   "outputs": [],
   "source": [
    "# rrcf_df = rrcf_df[rrcf_df.Hardware != 's390x']"
   ]
  },
  {
   "cell_type": "code",
   "execution_count": 44,
   "id": "86adee7b-bb76-4d14-99a8-a76c4ddcad1a",
   "metadata": {},
   "outputs": [],
   "source": [
    "# rrcf_df.head(10)"
   ]
  },
  {
   "cell_type": "code",
   "execution_count": 45,
   "id": "d68cdb16-dfd0-4817-b150-c34fb4b4a5d1",
   "metadata": {},
   "outputs": [],
   "source": [
    "# write_df(df = rrcf_df, file_name='rrcf.csv')"
   ]
  },
  {
   "cell_type": "code",
   "execution_count": null,
   "id": "62e88e65-cc21-447a-8076-cf0bde29842c",
   "metadata": {},
   "outputs": [],
   "source": []
  },
  {
   "cell_type": "code",
   "execution_count": null,
   "id": "81055d18-07f6-4262-81c3-9ed22eb5f51a",
   "metadata": {},
   "outputs": [],
   "source": []
  }
 ],
 "metadata": {
  "kernelspec": {
   "display_name": "Python 3 (ipykernel)",
   "language": "python",
   "name": "python3"
  },
  "language_info": {
   "codemirror_mode": {
    "name": "ipython",
    "version": 3
   },
   "file_extension": ".py",
   "mimetype": "text/x-python",
   "name": "python",
   "nbconvert_exporter": "python",
   "pygments_lexer": "ipython3",
   "version": "3.8.16"
  }
 },
 "nbformat": 4,
 "nbformat_minor": 5
}
