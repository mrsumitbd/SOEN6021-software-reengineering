{
 "cells": [
  {
   "cell_type": "code",
   "execution_count": 1,
   "id": "efc05165-f8b7-4120-bd75-c06e4109ac69",
   "metadata": {},
   "outputs": [],
   "source": [
    "import sys, os, time\n",
    "import numpy as np\n",
    "module_path = os.path.abspath(os.path.join('..', 'src'))\n",
    "if module_path not in sys.path:\n",
    "    sys.path.append(module_path)"
   ]
  },
  {
   "cell_type": "code",
   "execution_count": 2,
   "id": "5372efc8-7f4e-4361-946d-3053dcb85d4d",
   "metadata": {},
   "outputs": [],
   "source": [
    "from process_travis import *"
   ]
  },
  {
   "cell_type": "code",
   "execution_count": 3,
   "id": "8d8e188e-e2dd-477c-81b8-e1c70f6e48ab",
   "metadata": {},
   "outputs": [],
   "source": [
    "# create travis obj\n",
    "process_Travis = ProcessTravisCIBuilds(\"WMlSAymr_DTc5XHe5mCj4w\")"
   ]
  },
  {
   "cell_type": "code",
   "execution_count": 4,
   "id": "b70ba0fe-1080-46bd-b91d-48a7944d3360",
   "metadata": {},
   "outputs": [
    {
     "data": {
      "text/plain": [
       "['notthatanonymous/seglearn',\n",
       " 'notthatanonymous/sample_project-housing-price-prediction',\n",
       " 'notthatanonymous/sherpa',\n",
       " 'notthatanonymous/doc2vec',\n",
       " 'notthatanonymous/ZOOpt',\n",
       " 'notthatanonymous/choix',\n",
       " 'notthatanonymous/ai-chatbot-framework',\n",
       " 'notthatanonymous/smote_variants',\n",
       " 'notthatanonymous/abbreviation-extraction',\n",
       " 'notthatanonymous/AlphaPy',\n",
       " 'notthatanonymous/bad-commit-message-blocker',\n",
       " 'notthatanonymous/delfi',\n",
       " 'notthatanonymous/DenseTorch',\n",
       " 'notthatanonymous/Engine',\n",
       " 'notthatanonymous/fer',\n",
       " 'notthatanonymous/fishervector',\n",
       " 'notthatanonymous/gluon2pytorch',\n",
       " 'notthatanonymous/GOApy',\n",
       " 'notthatanonymous/kernel-gof',\n",
       " 'notthatanonymous/lagom',\n",
       " 'notthatanonymous/language-detector',\n",
       " 'notthatanonymous/light-weight-refinenet',\n",
       " 'notthatanonymous/MAX-Image-Resolution-Enhancer',\n",
       " 'notthatanonymous/MAX-Speech-to-Text-Converter',\n",
       " 'notthatanonymous/MAX-Weather-Forecaster',\n",
       " 'notthatanonymous/MLaaS4HEP',\n",
       " 'notthatanonymous/moe-serifu-agent',\n",
       " 'notthatanonymous/multi_rake',\n",
       " 'notthatanonymous/neuralcoref',\n",
       " 'notthatanonymous/pescador',\n",
       " 'notthatanonymous/PyKOMORAN',\n",
       " 'notthatanonymous/pyrrha-pynode',\n",
       " 'notthatanonymous/pywsd',\n",
       " 'notthatanonymous/recoder',\n",
       " 'notthatanonymous/rrcf',\n",
       " 'notthatanonymous/sacremoses',\n",
       " 'notthatanonymous/scattertext',\n",
       " 'notthatanonymous/scikit-optimize',\n",
       " 'notthatanonymous/setka',\n",
       " 'notthatanonymous/sparse-structured-attention',\n",
       " 'notthatanonymous/timefhuman',\n",
       " 'notthatanonymous/w2n',\n",
       " 'notthatanonymous/wwdata']"
      ]
     },
     "execution_count": 4,
     "metadata": {},
     "output_type": "execute_result"
    }
   ],
   "source": [
    "process_Travis.list_repos()"
   ]
  },
  {
   "cell_type": "code",
   "execution_count": 5,
   "id": "34dc20da-db76-498e-86ab-29dc55b578c5",
   "metadata": {},
   "outputs": [],
   "source": [
    "build_list = process_Travis.get_build_details('notthatanonymous/rrcf',\n",
    "                                5)"
   ]
  },
  {
   "cell_type": "code",
   "execution_count": 6,
   "id": "404463c4-f5c3-4477-8f24-fc1866ad0ab7",
   "metadata": {},
   "outputs": [],
   "source": [
    "# for i in range(5):\n",
    "#     process_Travis.create_build_request('notthatanonymous/seglearn', 'master')"
   ]
  },
  {
   "cell_type": "code",
   "execution_count": 7,
   "id": "1ed69401-0736-44f5-ba14-f5bb846cbf53",
   "metadata": {},
   "outputs": [],
   "source": [
    "#build_list"
   ]
  },
  {
   "cell_type": "code",
   "execution_count": 8,
   "id": "aa946146-779e-4e62-9179-3d4bf189cf31",
   "metadata": {},
   "outputs": [],
   "source": [
    "def check_if_finished(build_list):\n",
    "    run = 0\n",
    "    for build_id, build_desc in build_list.items():\n",
    "        run += 1\n",
    "        status = build_desc['status']\n",
    "        while status not in ['passed', 'errored', 'failed']:\n",
    "            time.sleep(30)\n",
    "            status = process_Travis.get_build_info(build_id)\n",
    "\n",
    "        print(f\"{build_id} completed with status {status}.\")\n",
    "\n",
    "        for job_id in build_list[build_id]['job_list']:\n",
    "            job_details = process_Travis.get_job_details(job_id)\n",
    "            #print(job_details['log'].split(\"\\nScore: \")[1].split(\"\\n\")[0])\n",
    "            try:\n",
    "                score = job_details['log'].split(\"\\nScore: \")[1].split(\"\\n\")[0]\n",
    "            except:\n",
    "                score = np.nan\n",
    "            #print(list(np.append(job_details['job_config'].split('_'), [int(run), round(float(score), 6)])))"
   ]
  },
  {
   "cell_type": "code",
   "execution_count": 9,
   "id": "3417ca49-8548-403e-8f2c-c5791f140c70",
   "metadata": {},
   "outputs": [
    {
     "name": "stdout",
     "output_type": "stream",
     "text": [
      "264248841 completed with status passed.\n",
      "58.0\n",
      "60.0\n",
      "52.0\n",
      "52.0\n",
      "53.0\n",
      "150.0\n",
      "116.0\n",
      "116.0\n",
      "264248839 completed with status passed.\n",
      "57.0\n",
      "65.0\n",
      "52.0\n",
      "53.0\n",
      "52.0\n",
      "162.0\n",
      "116.0\n",
      "118.0\n",
      "264248833 completed with status passed.\n",
      "57.0\n",
      "61.0\n",
      "53.0\n",
      "52.0\n",
      "51.0\n",
      "157.0\n",
      "117.0\n",
      "120.0\n",
      "264248825 completed with status passed.\n",
      "58.0\n",
      "60.0\n",
      "53.0\n",
      "53.0\n",
      "53.0\n",
      "149.0\n",
      "111.0\n",
      "124.0\n",
      "264248820 completed with status passed.\n",
      "58.0\n",
      "66.0\n",
      "53.0\n",
      "51.0\n",
      "54.0\n",
      "155.0\n",
      "113.0\n",
      "122.0\n"
     ]
    }
   ],
   "source": [
    "check_if_finished(build_list)"
   ]
  },
  {
   "cell_type": "code",
   "execution_count": null,
   "id": "57c5aa26-8b94-4cb8-929a-c3b8a132b986",
   "metadata": {},
   "outputs": [],
   "source": []
  },
  {
   "cell_type": "code",
   "execution_count": null,
   "id": "73337ba0-bc02-46ee-b922-005d5f87fea3",
   "metadata": {},
   "outputs": [],
   "source": []
  },
  {
   "cell_type": "code",
   "execution_count": null,
   "id": "3f72c5b2-e169-4b16-96f9-225d218eff33",
   "metadata": {},
   "outputs": [],
   "source": []
  },
  {
   "cell_type": "code",
   "execution_count": null,
   "id": "780350c3-b0bc-48f6-8abc-65bb825a23e4",
   "metadata": {},
   "outputs": [],
   "source": []
  }
 ],
 "metadata": {
  "kernelspec": {
   "display_name": "Python 3 (ipykernel)",
   "language": "python",
   "name": "python3"
  },
  "language_info": {
   "codemirror_mode": {
    "name": "ipython",
    "version": 3
   },
   "file_extension": ".py",
   "mimetype": "text/x-python",
   "name": "python",
   "nbconvert_exporter": "python",
   "pygments_lexer": "ipython3",
   "version": "3.8.16"
  }
 },
 "nbformat": 4,
 "nbformat_minor": 5
}
