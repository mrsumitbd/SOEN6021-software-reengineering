{
 "cells": [
  {
   "cell_type": "code",
   "execution_count": 1,
   "id": "2a2781ae-676a-4c3d-b9d0-040ab0ddc3b5",
   "metadata": {},
   "outputs": [],
   "source": [
    "from language_detector import detect_language\n",
    "text = \"I arrived in that city on January 4, 1937\"\n",
    "language = detect_language(text)\n",
    "# prints English"
   ]
  },
  {
   "cell_type": "code",
   "execution_count": 2,
   "id": "b92ef898-8f54-4f46-b10d-2d6c8eb9e586",
   "metadata": {},
   "outputs": [
    {
     "name": "stdout",
     "output_type": "stream",
     "text": [
      "English\n"
     ]
    }
   ],
   "source": [
    "print(language)"
   ]
  },
  {
   "cell_type": "code",
   "execution_count": null,
   "id": "8fed38f6-d281-414c-887d-a030d3adbba9",
   "metadata": {},
   "outputs": [],
   "source": []
  }
 ],
 "metadata": {
  "kernelspec": {
   "display_name": "Python 3 (ipykernel)",
   "language": "python",
   "name": "python3"
  },
  "language_info": {
   "codemirror_mode": {
    "name": "ipython",
    "version": 3
   },
   "file_extension": ".py",
   "mimetype": "text/x-python",
   "name": "python",
   "nbconvert_exporter": "python",
   "pygments_lexer": "ipython3",
   "version": "3.8.16"
  }
 },
 "nbformat": 4,
 "nbformat_minor": 5
}
