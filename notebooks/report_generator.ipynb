{
 "cells": [
  {
   "cell_type": "code",
   "execution_count": 1,
   "id": "06b33edd-bda9-4e05-9ea9-fa467906c88d",
   "metadata": {},
   "outputs": [],
   "source": [
    "import seaborn as sns\n",
    "import matplotlib.pyplot as plt\n",
    "import pandas as pd"
   ]
  },
  {
   "cell_type": "code",
   "execution_count": 2,
   "id": "16325c13-2301-4a01-8a50-fbd51ef95b24",
   "metadata": {},
   "outputs": [],
   "source": [
    "res_df = pd.read_csv('../analysis_report/analysis_report.csv')"
   ]
  },
  {
   "cell_type": "code",
   "execution_count": 3,
   "id": "57dc854a-9b37-401d-b122-97892767fd89",
   "metadata": {},
   "outputs": [
    {
     "data": {
      "text/plain": [
       "(90, 10)"
      ]
     },
     "execution_count": 3,
     "metadata": {},
     "output_type": "execute_result"
    }
   ],
   "source": [
    "res_df.shape"
   ]
  },
  {
   "cell_type": "code",
   "execution_count": 6,
   "id": "0b87d128-7463-4e3b-86eb-b83334306bb9",
   "metadata": {},
   "outputs": [
    {
     "data": {
      "text/html": [
       "<div>\n",
       "<style scoped>\n",
       "    .dataframe tbody tr th:only-of-type {\n",
       "        vertical-align: middle;\n",
       "    }\n",
       "\n",
       "    .dataframe tbody tr th {\n",
       "        vertical-align: top;\n",
       "    }\n",
       "\n",
       "    .dataframe thead th {\n",
       "        text-align: right;\n",
       "    }\n",
       "</style>\n",
       "<table border=\"1\" class=\"dataframe\">\n",
       "  <thead>\n",
       "    <tr style=\"text-align: right;\">\n",
       "      <th></th>\n",
       "      <th>Unnamed: 0</th>\n",
       "      <th>os_mac</th>\n",
       "      <th>os_windows</th>\n",
       "      <th>dist_bionic</th>\n",
       "      <th>dist_focal</th>\n",
       "      <th>hw_arm64</th>\n",
       "      <th>py_3_6</th>\n",
       "      <th>py_3_8</th>\n",
       "    </tr>\n",
       "  </thead>\n",
       "  <tbody>\n",
       "    <tr>\n",
       "      <th>count</th>\n",
       "      <td>30.000000</td>\n",
       "      <td>30.000000</td>\n",
       "      <td>30.000000</td>\n",
       "      <td>30.000000</td>\n",
       "      <td>30.000000</td>\n",
       "      <td>30.000000</td>\n",
       "      <td>30.000000</td>\n",
       "      <td>30.000000</td>\n",
       "    </tr>\n",
       "    <tr>\n",
       "      <th>mean</th>\n",
       "      <td>43.500000</td>\n",
       "      <td>1.440292</td>\n",
       "      <td>-4.209209</td>\n",
       "      <td>2.506385</td>\n",
       "      <td>2.069281</td>\n",
       "      <td>-0.622098</td>\n",
       "      <td>-0.523288</td>\n",
       "      <td>-0.727392</td>\n",
       "    </tr>\n",
       "    <tr>\n",
       "      <th>std</th>\n",
       "      <td>26.410225</td>\n",
       "      <td>21.403407</td>\n",
       "      <td>14.961691</td>\n",
       "      <td>13.816245</td>\n",
       "      <td>13.858428</td>\n",
       "      <td>5.698909</td>\n",
       "      <td>5.274196</td>\n",
       "      <td>5.854962</td>\n",
       "    </tr>\n",
       "    <tr>\n",
       "      <th>min</th>\n",
       "      <td>0.000000</td>\n",
       "      <td>-50.909091</td>\n",
       "      <td>-77.204886</td>\n",
       "      <td>-14.545455</td>\n",
       "      <td>-14.545455</td>\n",
       "      <td>-29.411682</td>\n",
       "      <td>-25.317069</td>\n",
       "      <td>-29.932966</td>\n",
       "    </tr>\n",
       "    <tr>\n",
       "      <th>25%</th>\n",
       "      <td>21.750000</td>\n",
       "      <td>-0.101145</td>\n",
       "      <td>-0.275811</td>\n",
       "      <td>-0.049334</td>\n",
       "      <td>0.000000</td>\n",
       "      <td>-0.161664</td>\n",
       "      <td>-0.067266</td>\n",
       "      <td>-0.143983</td>\n",
       "    </tr>\n",
       "    <tr>\n",
       "      <th>50%</th>\n",
       "      <td>43.500000</td>\n",
       "      <td>0.000000</td>\n",
       "      <td>-0.031843</td>\n",
       "      <td>0.000000</td>\n",
       "      <td>0.026050</td>\n",
       "      <td>0.000000</td>\n",
       "      <td>0.000000</td>\n",
       "      <td>0.000000</td>\n",
       "    </tr>\n",
       "    <tr>\n",
       "      <th>75%</th>\n",
       "      <td>65.250000</td>\n",
       "      <td>0.395057</td>\n",
       "      <td>0.037058</td>\n",
       "      <td>0.276541</td>\n",
       "      <td>0.297072</td>\n",
       "      <td>0.085177</td>\n",
       "      <td>0.153366</td>\n",
       "      <td>0.110153</td>\n",
       "    </tr>\n",
       "    <tr>\n",
       "      <th>max</th>\n",
       "      <td>87.000000</td>\n",
       "      <td>101.976573</td>\n",
       "      <td>1.098289</td>\n",
       "      <td>73.579904</td>\n",
       "      <td>73.579904</td>\n",
       "      <td>6.493203</td>\n",
       "      <td>5.521923</td>\n",
       "      <td>8.376583</td>\n",
       "    </tr>\n",
       "  </tbody>\n",
       "</table>\n",
       "</div>"
      ],
      "text/plain": [
       "       Unnamed: 0      os_mac  os_windows  dist_bionic  dist_focal   hw_arm64   \n",
       "count   30.000000   30.000000   30.000000    30.000000   30.000000  30.000000  \\\n",
       "mean    43.500000    1.440292   -4.209209     2.506385    2.069281  -0.622098   \n",
       "std     26.410225   21.403407   14.961691    13.816245   13.858428   5.698909   \n",
       "min      0.000000  -50.909091  -77.204886   -14.545455  -14.545455 -29.411682   \n",
       "25%     21.750000   -0.101145   -0.275811    -0.049334    0.000000  -0.161664   \n",
       "50%     43.500000    0.000000   -0.031843     0.000000    0.026050   0.000000   \n",
       "75%     65.250000    0.395057    0.037058     0.276541    0.297072   0.085177   \n",
       "max     87.000000  101.976573    1.098289    73.579904   73.579904   6.493203   \n",
       "\n",
       "          py_3_6     py_3_8  \n",
       "count  30.000000  30.000000  \n",
       "mean   -0.523288  -0.727392  \n",
       "std     5.274196   5.854962  \n",
       "min   -25.317069 -29.932966  \n",
       "25%    -0.067266  -0.143983  \n",
       "50%     0.000000   0.000000  \n",
       "75%     0.153366   0.110153  \n",
       "max     5.521923   8.376583  "
      ]
     },
     "execution_count": 6,
     "metadata": {},
     "output_type": "execute_result"
    }
   ],
   "source": [
    "res_df.loc[res_df['Metric'] == 'Score'].describe()"
   ]
  },
  {
   "cell_type": "code",
   "execution_count": null,
   "id": "4f29f9bf-b110-4e34-be47-eefe366d26ae",
   "metadata": {},
   "outputs": [],
   "source": []
  }
 ],
 "metadata": {
  "kernelspec": {
   "display_name": "Python 3 (ipykernel)",
   "language": "python",
   "name": "python3"
  },
  "language_info": {
   "codemirror_mode": {
    "name": "ipython",
    "version": 3
   },
   "file_extension": ".py",
   "mimetype": "text/x-python",
   "name": "python",
   "nbconvert_exporter": "python",
   "pygments_lexer": "ipython3",
   "version": "3.8.16"
  }
 },
 "nbformat": 4,
 "nbformat_minor": 5
}
