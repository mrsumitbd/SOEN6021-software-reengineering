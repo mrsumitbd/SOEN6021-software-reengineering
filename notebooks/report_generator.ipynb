{
 "cells": [
  {
   "cell_type": "code",
   "execution_count": 1,
   "id": "06b33edd-bda9-4e05-9ea9-fa467906c88d",
   "metadata": {},
   "outputs": [],
   "source": [
    "import seaborn as sns\n",
    "import matplotlib.pyplot as plt\n",
    "import pandas as pd"
   ]
  },
  {
   "cell_type": "code",
   "execution_count": 2,
   "id": "16325c13-2301-4a01-8a50-fbd51ef95b24",
   "metadata": {},
   "outputs": [],
   "source": [
    "res_df = pd.read_csv('../analysis_report/analysis_report.csv')\n",
    "res_df.drop(columns = \"Unnamed: 0\", inplace = True)"
   ]
  },
  {
   "cell_type": "code",
   "execution_count": 3,
   "id": "856e50f9-5527-4f65-b828-dd675cec76e9",
   "metadata": {},
   "outputs": [
    {
     "data": {
      "text/html": [
       "<div>\n",
       "<style scoped>\n",
       "    .dataframe tbody tr th:only-of-type {\n",
       "        vertical-align: middle;\n",
       "    }\n",
       "\n",
       "    .dataframe tbody tr th {\n",
       "        vertical-align: top;\n",
       "    }\n",
       "\n",
       "    .dataframe thead th {\n",
       "        text-align: right;\n",
       "    }\n",
       "</style>\n",
       "<table border=\"1\" class=\"dataframe\">\n",
       "  <thead>\n",
       "    <tr style=\"text-align: right;\">\n",
       "      <th></th>\n",
       "      <th>Project</th>\n",
       "      <th>Metric</th>\n",
       "      <th>os_mac</th>\n",
       "      <th>os_windows</th>\n",
       "      <th>dist_bionic</th>\n",
       "      <th>dist_focal</th>\n",
       "      <th>hw_arm64</th>\n",
       "      <th>py_3_6</th>\n",
       "      <th>py_3_8</th>\n",
       "    </tr>\n",
       "  </thead>\n",
       "  <tbody>\n",
       "    <tr>\n",
       "      <th>0</th>\n",
       "      <td>seglearn</td>\n",
       "      <td>Score</td>\n",
       "      <td>0.000000</td>\n",
       "      <td>0.000000</td>\n",
       "      <td>0.000000</td>\n",
       "      <td>0.000000</td>\n",
       "      <td>0.000000</td>\n",
       "      <td>0.000000</td>\n",
       "      <td>0.000000</td>\n",
       "    </tr>\n",
       "    <tr>\n",
       "      <th>1</th>\n",
       "      <td>seglearn</td>\n",
       "      <td>Processing_Time</td>\n",
       "      <td>114.679313</td>\n",
       "      <td>133.830172</td>\n",
       "      <td>0.903342</td>\n",
       "      <td>-0.135501</td>\n",
       "      <td>121.815718</td>\n",
       "      <td>15.130985</td>\n",
       "      <td>3.523035</td>\n",
       "    </tr>\n",
       "    <tr>\n",
       "      <th>2</th>\n",
       "      <td>seglearn</td>\n",
       "      <td>Expense</td>\n",
       "      <td>973.396567</td>\n",
       "      <td>367.660343</td>\n",
       "      <td>0.903342</td>\n",
       "      <td>-0.135501</td>\n",
       "      <td>121.815718</td>\n",
       "      <td>15.130985</td>\n",
       "      <td>3.523035</td>\n",
       "    </tr>\n",
       "    <tr>\n",
       "      <th>3</th>\n",
       "      <td>pymfe</td>\n",
       "      <td>Score</td>\n",
       "      <td>0.000000</td>\n",
       "      <td>0.000000</td>\n",
       "      <td>0.000000</td>\n",
       "      <td>0.000000</td>\n",
       "      <td>0.000000</td>\n",
       "      <td>0.000000</td>\n",
       "      <td>0.000000</td>\n",
       "    </tr>\n",
       "    <tr>\n",
       "      <th>4</th>\n",
       "      <td>pymfe</td>\n",
       "      <td>Processing_Time</td>\n",
       "      <td>74.317570</td>\n",
       "      <td>177.085736</td>\n",
       "      <td>-16.532103</td>\n",
       "      <td>-15.993849</td>\n",
       "      <td>-4.882737</td>\n",
       "      <td>13.802384</td>\n",
       "      <td>2.037678</td>\n",
       "    </tr>\n",
       "  </tbody>\n",
       "</table>\n",
       "</div>"
      ],
      "text/plain": [
       "    Project           Metric      os_mac  os_windows  dist_bionic  dist_focal   \n",
       "0  seglearn            Score    0.000000    0.000000     0.000000    0.000000  \\\n",
       "1  seglearn  Processing_Time  114.679313  133.830172     0.903342   -0.135501   \n",
       "2  seglearn          Expense  973.396567  367.660343     0.903342   -0.135501   \n",
       "3     pymfe            Score    0.000000    0.000000     0.000000    0.000000   \n",
       "4     pymfe  Processing_Time   74.317570  177.085736   -16.532103  -15.993849   \n",
       "\n",
       "     hw_arm64     py_3_6    py_3_8  \n",
       "0    0.000000   0.000000  0.000000  \n",
       "1  121.815718  15.130985  3.523035  \n",
       "2  121.815718  15.130985  3.523035  \n",
       "3    0.000000   0.000000  0.000000  \n",
       "4   -4.882737  13.802384  2.037678  "
      ]
     },
     "execution_count": 3,
     "metadata": {},
     "output_type": "execute_result"
    }
   ],
   "source": [
    "res_df.head()"
   ]
  },
  {
   "cell_type": "code",
   "execution_count": null,
   "id": "c062e803-3bb6-439f-b372-433e93818dcb",
   "metadata": {},
   "outputs": [],
   "source": []
  },
  {
   "cell_type": "code",
   "execution_count": 4,
   "id": "57dc854a-9b37-401d-b122-97892767fd89",
   "metadata": {},
   "outputs": [
    {
     "data": {
      "text/plain": [
       "(90, 9)"
      ]
     },
     "execution_count": 4,
     "metadata": {},
     "output_type": "execute_result"
    }
   ],
   "source": [
    "res_df.shape"
   ]
  },
  {
   "cell_type": "code",
   "execution_count": 28,
   "id": "0b87d128-7463-4e3b-86eb-b83334306bb9",
   "metadata": {},
   "outputs": [
    {
     "data": {
      "text/html": [
       "<div>\n",
       "<style scoped>\n",
       "    .dataframe tbody tr th:only-of-type {\n",
       "        vertical-align: middle;\n",
       "    }\n",
       "\n",
       "    .dataframe tbody tr th {\n",
       "        vertical-align: top;\n",
       "    }\n",
       "\n",
       "    .dataframe thead th {\n",
       "        text-align: right;\n",
       "    }\n",
       "</style>\n",
       "<table border=\"1\" class=\"dataframe\">\n",
       "  <thead>\n",
       "    <tr style=\"text-align: right;\">\n",
       "      <th></th>\n",
       "      <th>os_mac</th>\n",
       "      <th>os_windows</th>\n",
       "      <th>dist_bionic</th>\n",
       "      <th>dist_focal</th>\n",
       "      <th>hw_arm64</th>\n",
       "      <th>py_3_6</th>\n",
       "      <th>py_3_8</th>\n",
       "    </tr>\n",
       "  </thead>\n",
       "  <tbody>\n",
       "    <tr>\n",
       "      <th>count</th>\n",
       "      <td>30.000000</td>\n",
       "      <td>30.000000</td>\n",
       "      <td>30.000000</td>\n",
       "      <td>30.000000</td>\n",
       "      <td>30.000000</td>\n",
       "      <td>30.000000</td>\n",
       "      <td>30.000000</td>\n",
       "    </tr>\n",
       "    <tr>\n",
       "      <th>mean</th>\n",
       "      <td>1085.465800</td>\n",
       "      <td>297.662400</td>\n",
       "      <td>-6.034929</td>\n",
       "      <td>-5.685779</td>\n",
       "      <td>19.488144</td>\n",
       "      <td>43.928907</td>\n",
       "      <td>3.458830</td>\n",
       "    </tr>\n",
       "    <tr>\n",
       "      <th>std</th>\n",
       "      <td>1143.039047</td>\n",
       "      <td>125.323782</td>\n",
       "      <td>7.003437</td>\n",
       "      <td>7.240616</td>\n",
       "      <td>51.325440</td>\n",
       "      <td>107.355221</td>\n",
       "      <td>8.156637</td>\n",
       "    </tr>\n",
       "    <tr>\n",
       "      <th>min</th>\n",
       "      <td>397.227238</td>\n",
       "      <td>104.049523</td>\n",
       "      <td>-19.049815</td>\n",
       "      <td>-18.680812</td>\n",
       "      <td>-51.815182</td>\n",
       "      <td>-20.993766</td>\n",
       "      <td>-13.580088</td>\n",
       "    </tr>\n",
       "    <tr>\n",
       "      <th>25%</th>\n",
       "      <td>622.661781</td>\n",
       "      <td>197.829995</td>\n",
       "      <td>-11.566812</td>\n",
       "      <td>-12.070418</td>\n",
       "      <td>-5.510112</td>\n",
       "      <td>8.307730</td>\n",
       "      <td>0.269163</td>\n",
       "    </tr>\n",
       "    <tr>\n",
       "      <th>50%</th>\n",
       "      <td>742.970653</td>\n",
       "      <td>290.300111</td>\n",
       "      <td>-4.040533</td>\n",
       "      <td>-5.683568</td>\n",
       "      <td>1.559132</td>\n",
       "      <td>13.064246</td>\n",
       "      <td>2.021751</td>\n",
       "    </tr>\n",
       "    <tr>\n",
       "      <th>75%</th>\n",
       "      <td>984.335028</td>\n",
       "      <td>398.252738</td>\n",
       "      <td>-0.225447</td>\n",
       "      <td>0.241522</td>\n",
       "      <td>27.006848</td>\n",
       "      <td>23.347560</td>\n",
       "      <td>4.422088</td>\n",
       "    </tr>\n",
       "    <tr>\n",
       "      <th>max</th>\n",
       "      <td>5827.570232</td>\n",
       "      <td>510.239852</td>\n",
       "      <td>4.283770</td>\n",
       "      <td>7.604627</td>\n",
       "      <td>190.758874</td>\n",
       "      <td>495.379224</td>\n",
       "      <td>28.492849</td>\n",
       "    </tr>\n",
       "  </tbody>\n",
       "</table>\n",
       "</div>"
      ],
      "text/plain": [
       "            os_mac  os_windows  dist_bionic  dist_focal    hw_arm64   \n",
       "count    30.000000   30.000000    30.000000   30.000000   30.000000  \\\n",
       "mean   1085.465800  297.662400    -6.034929   -5.685779   19.488144   \n",
       "std    1143.039047  125.323782     7.003437    7.240616   51.325440   \n",
       "min     397.227238  104.049523   -19.049815  -18.680812  -51.815182   \n",
       "25%     622.661781  197.829995   -11.566812  -12.070418   -5.510112   \n",
       "50%     742.970653  290.300111    -4.040533   -5.683568    1.559132   \n",
       "75%     984.335028  398.252738    -0.225447    0.241522   27.006848   \n",
       "max    5827.570232  510.239852     4.283770    7.604627  190.758874   \n",
       "\n",
       "           py_3_6     py_3_8  \n",
       "count   30.000000  30.000000  \n",
       "mean    43.928907   3.458830  \n",
       "std    107.355221   8.156637  \n",
       "min    -20.993766 -13.580088  \n",
       "25%      8.307730   0.269163  \n",
       "50%     13.064246   2.021751  \n",
       "75%     23.347560   4.422088  \n",
       "max    495.379224  28.492849  "
      ]
     },
     "execution_count": 28,
     "metadata": {},
     "output_type": "execute_result"
    }
   ],
   "source": [
    "res_df.loc[res_df['Metric'] == 'Expense'].describe()"
   ]
  },
  {
   "cell_type": "code",
   "execution_count": 29,
   "id": "4f29f9bf-b110-4e34-be47-eefe366d26ae",
   "metadata": {},
   "outputs": [
    {
     "data": {
      "text/html": [
       "<div>\n",
       "<style scoped>\n",
       "    .dataframe tbody tr th:only-of-type {\n",
       "        vertical-align: middle;\n",
       "    }\n",
       "\n",
       "    .dataframe tbody tr th {\n",
       "        vertical-align: top;\n",
       "    }\n",
       "\n",
       "    .dataframe thead th {\n",
       "        text-align: right;\n",
       "    }\n",
       "</style>\n",
       "<table border=\"1\" class=\"dataframe\">\n",
       "  <thead>\n",
       "    <tr style=\"text-align: right;\">\n",
       "      <th></th>\n",
       "      <th>Project</th>\n",
       "      <th>Metric</th>\n",
       "      <th>os_mac</th>\n",
       "      <th>os_windows</th>\n",
       "      <th>dist_bionic</th>\n",
       "      <th>dist_focal</th>\n",
       "      <th>hw_arm64</th>\n",
       "      <th>py_3_6</th>\n",
       "      <th>py_3_8</th>\n",
       "    </tr>\n",
       "  </thead>\n",
       "  <tbody>\n",
       "  </tbody>\n",
       "</table>\n",
       "</div>"
      ],
      "text/plain": [
       "Empty DataFrame\n",
       "Columns: [Project, Metric, os_mac, os_windows, dist_bionic, dist_focal, hw_arm64, py_3_6, py_3_8]\n",
       "Index: []"
      ]
     },
     "execution_count": 29,
     "metadata": {},
     "output_type": "execute_result"
    }
   ],
   "source": [
    "# some degree of variability Linux vs Mac\n",
    "res_df.loc[(res_df['Metric'] == 'Expense') & (res_df['os_mac'] == 0)]"
   ]
  },
  {
   "cell_type": "code",
   "execution_count": 22,
   "id": "92b96761-3fad-4b66-bff8-657647518180",
   "metadata": {},
   "outputs": [],
   "source": [
    "def two_sided_vlpot(full_df, metric):\n",
    "    full_df = full_df.loc[res_df['Metric'] == metric, :]\n",
    "    project = []\n",
    "    pct_chng = []\n",
    "    os = []\n",
    "    for index, row in full_df.iterrows():\n",
    "        project.append(row['Project'])\n",
    "        pct_chng.append(row['os_mac'])\n",
    "        os.append(\"MacOS\")\n",
    "\n",
    "        project.append(row['Project'])\n",
    "        pct_chng.append(row['os_windows'])\n",
    "        os.append(\"Windows\")\n",
    "\n",
    "    df = pd.DataFrame({'Project' : project,\n",
    "                      'Percentage Diiference' : pct_chng,\n",
    "                      'Operating System' : os})\n",
    "    df['rnd'] = [''] * df.shape[0]\n",
    "\n",
    "    #return df\n",
    "\n",
    "    sns.violinplot(data = df, x = 'rnd', y = 'Percentage Diiference', hue = 'Operating System', split = True);\n",
    "    plt.tick_params(bottom = False)\n",
    "    plt.xlabel(\"\")\n",
    "    plt.ylabel(\"Percentage Difference\")\n",
    "    plt.savefig(f'../analysis_report/plots/pct_diff_os_{metric}.pdf', format = 'pdf', dpi = 300);\n",
    "        \n",
    "    "
   ]
  },
  {
   "cell_type": "code",
   "execution_count": 25,
   "id": "abe0554f-f081-4535-9e78-3308c408fd43",
   "metadata": {},
   "outputs": [
    {
     "data": {
      "image/png": "[encoded data removed]",
      "text/plain": [
       "<Figure size 640x480 with 1 Axes>"
      ]
     },
     "metadata": {},
     "output_type": "display_data"
    }
   ],
   "source": [
    "two_sided_vlpot(res_df, 'Expense')"
   ]
  },
  {
   "cell_type": "code",
   "execution_count": null,
   "id": "0c80292c-1274-4815-9bf9-5a26ee1d2886",
   "metadata": {},
   "outputs": [],
   "source": []
  },
  {
   "cell_type": "code",
   "execution_count": null,
   "id": "7cadc774-5171-4c77-89d8-90b03083d117",
   "metadata": {},
   "outputs": [],
   "source": []
  },
  {
   "cell_type": "code",
   "execution_count": null,
   "id": "2f441125-77ca-4108-9b59-5373b336f0c9",
   "metadata": {},
   "outputs": [],
   "source": []
  },
  {
   "cell_type": "code",
   "execution_count": null,
   "id": "b0b9c60c-dcd9-4e65-8509-60409996d997",
   "metadata": {},
   "outputs": [],
   "source": []
  }
 ],
 "metadata": {
  "kernelspec": {
   "display_name": "Python 3 (ipykernel)",
   "language": "python",
   "name": "python3"
  },
  "language_info": {
   "codemirror_mode": {
    "name": "ipython",
    "version": 3
   },
   "file_extension": ".py",
   "mimetype": "text/x-python",
   "name": "python",
   "nbconvert_exporter": "python",
   "pygments_lexer": "ipython3",
   "version": "3.8.16"
  }
 },
 "nbformat": 4,
 "nbformat_minor": 5
}
